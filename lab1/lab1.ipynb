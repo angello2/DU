{
 "cells": [
  {
   "cell_type": "markdown",
   "id": "5d90064f",
   "metadata": {},
   "source": [
    "# 1. Generiranje linearno nerazdvojivih podataka"
   ]
  },
  {
   "cell_type": "code",
   "execution_count": null,
   "id": "017e4149",
   "metadata": {},
   "outputs": [],
   "source": [
    "import numpy as np\n",
    "import matplotlib.pyplot as plt\n",
    "import data\n",
    "\n",
    "np.random.seed(100)\n",
    "  \n",
    "# get data\n",
    "X,Y_ = data.sample_gmm_2d(4, 2, 30)\n",
    "# X,Y_ = data.sample_gauss_2d(2, 100)\n",
    "\n",
    "# get the class predictions\n",
    "Y = data.myDummyDecision(X)>0.5  \n",
    "\n",
    "# graph the decision surface\n",
    "rect=(np.min(X, axis=0), np.max(X, axis=0))\n",
    "data.graph_surface(data.myDummyDecision, rect, offset=0)\n",
    "  \n",
    "# graph the data points\n",
    "data.graph_data(X, Y_, Y, special=[])\n",
    "\n",
    "plt.show()\n"
   ]
  },
  {
   "cell_type": "markdown",
   "id": "420d539e",
   "metadata": {},
   "source": [
    "# 2. Višeslojna klasifikacija u Pythonu (20% bodova)"
   ]
  },
  {
   "cell_type": "code",
   "execution_count": 3,
   "id": "db3e84b3",
   "metadata": {},
   "outputs": [],
   "source": [
    "import fcann2"
   ]
  },
  {
   "cell_type": "code",
   "execution_count": 4,
   "id": "e734c54c",
   "metadata": {},
   "outputs": [
    {
     "name": "stdout",
     "output_type": "stream",
     "text": [
      "[[ 5.32541462  2.09720781]\n",
      " [ 5.93435063  5.41785058]\n",
      " [ 7.05230344  4.68946487]\n",
      " [ 5.72737617  5.37082561]\n",
      " [ 4.55758137  1.38281333]\n",
      " [ 6.13032153  2.24564803]\n",
      " [ 6.32631735 -0.10080164]\n",
      " [ 4.94883341  1.05820135]\n",
      " [ 5.40374791 -1.20496135]\n",
      " [ 6.57507436  5.68896838]\n",
      " [ 2.43629023  2.10951835]\n",
      " [-0.28175902  0.03115403]\n",
      " [ 0.68843321  1.35161025]\n",
      " [ 0.95066295  1.1847159 ]\n",
      " [ 3.44020112  4.32184664]\n",
      " [ 1.18449638  1.10889842]\n",
      " [-0.24049827  4.40121769]\n",
      " [ 1.17519795  2.50533689]\n",
      " [ 2.10855696  4.01005077]\n",
      " [ 2.23163105  0.42805802]\n",
      " [ 2.51778556  2.19958206]\n",
      " [ 2.05794984  1.5652956 ]\n",
      " [ 1.708401    1.60741831]\n",
      " [ 2.33508009  1.34119267]\n",
      " [ 2.27759705  1.36380237]\n",
      " [ 2.1651051   2.37893261]\n",
      " [ 2.34628363  2.11983684]\n",
      " [ 1.79573007  2.30652631]\n",
      " [ 2.28348886  2.03142079]\n",
      " [ 1.60179996  2.11359758]\n",
      " [ 1.96209692 -0.11471782]\n",
      " [ 0.885446    1.9327043 ]\n",
      " [ 0.65237392  1.77495797]\n",
      " [ 4.36913766  1.67700196]\n",
      " [ 1.68793462 -0.52733087]\n",
      " [ 2.32881921  1.0638152 ]\n",
      " [ 1.14048341  0.71005817]\n",
      " [ 0.83833317 -0.42544102]\n",
      " [ 0.49810362  1.89840401]\n",
      " [ 2.71548131  1.48272418]\n",
      " [ 7.98959534  2.46510483]\n",
      " [ 7.66348997  4.63954999]\n",
      " [ 8.81304128  3.25598841]\n",
      " [ 7.58304068  3.91239114]\n",
      " [ 7.82920671  1.86953175]\n",
      " [ 7.92297354  2.58632289]\n",
      " [ 7.1110372   3.02450585]\n",
      " [ 8.35901294  3.56849587]\n",
      " [ 8.61931937  2.89486924]\n",
      " [ 7.75962631  4.32803338]\n",
      " [ 6.80260281  2.14452328]\n",
      " [ 7.26671818  0.72927648]\n",
      " [ 5.61830026  2.2682915 ]\n",
      " [ 7.08080102  1.51164769]\n",
      " [ 6.11052106  2.39620985]\n",
      " [ 7.85699629  1.30419417]\n",
      " [ 5.82024823  2.32252019]\n",
      " [ 5.1703542   1.02101159]\n",
      " [ 6.80751353  1.51223491]\n",
      " [ 6.08822935  1.88111478]]\n",
      "[0 0 0 0 0 0 0 0 0 0 1 1 1 1 1 1 1 1 1 1 0 0 0 0 0 0 0 0 0 0 1 1 1 1 1 1 1\n",
      " 1 1 1 1 1 1 1 1 1 1 1 1 1 0 0 0 0 0 0 0 0 0 0]\n"
     ]
    }
   ],
   "source": [
    "np.random.seed(100)\n",
    "X,Y_ = data.sample_gmm_2d(6,2,10)\n",
    "W2, b2, W1, b1 = fcann2.fcann2_train(X,Y_)\n"
   ]
  },
  {
   "cell_type": "markdown",
   "id": "e8e2a3d6",
   "metadata": {},
   "source": [
    "# 3. Linearna regresija u PyTorchu (10% bodova)"
   ]
  },
  {
   "cell_type": "code",
   "execution_count": 3,
   "id": "0d8d336b",
   "metadata": {},
   "outputs": [
    {
     "name": "stdout",
     "output_type": "stream",
     "text": [
      "step: 0, loss:61.55670166015625, Y_:tensor([-1.5730, -1.3753], grad_fn=<AddBackward0>), a:tensor([3.6624], requires_grad=True), b:tensor([0.4190], requires_grad=True)\n",
      "step: 10, loss:0.1602749228477478, Y_:tensor([2.6592, 5.2101], grad_fn=<AddBackward0>), a:tensor([2.5350], requires_grad=True), b:tensor([0.1345], requires_grad=True)\n",
      "step: 20, loss:0.08864262700080872, Y_:tensor([2.7467, 5.1565], grad_fn=<AddBackward0>), a:tensor([2.3978], requires_grad=True), b:tensor([0.3563], requires_grad=True)\n",
      "step: 30, loss:0.049025315791368484, Y_:tensor([2.8117, 5.1164], grad_fn=<AddBackward0>), a:tensor([2.2959], requires_grad=True), b:tensor([0.5213], requires_grad=True)\n",
      "step: 40, loss:0.027114223688840866, Y_:tensor([2.8599, 5.0866], grad_fn=<AddBackward0>), a:tensor([2.2200], requires_grad=True), b:tensor([0.6440], requires_grad=True)\n",
      "step: 50, loss:0.014996014535427094, Y_:tensor([2.8958, 5.0644], grad_fn=<AddBackward0>), a:tensor([2.1636], requires_grad=True), b:tensor([0.7352], requires_grad=True)\n",
      "step: 60, loss:0.00829382799565792, Y_:tensor([2.9225, 5.0479], grad_fn=<AddBackward0>), a:tensor([2.1217], requires_grad=True), b:tensor([0.8031], requires_grad=True)\n",
      "step: 70, loss:0.0045870328322052956, Y_:tensor([2.9424, 5.0356], grad_fn=<AddBackward0>), a:tensor([2.0905], requires_grad=True), b:tensor([0.8536], requires_grad=True)\n",
      "step: 80, loss:0.0025369320064783096, Y_:tensor([2.9572, 5.0265], grad_fn=<AddBackward0>), a:tensor([2.0673], requires_grad=True), b:tensor([0.8911], requires_grad=True)\n",
      "step: 90, loss:0.001403104979544878, Y_:tensor([2.9681, 5.0197], grad_fn=<AddBackward0>), a:tensor([2.0501], requires_grad=True), b:tensor([0.9190], requires_grad=True)\n"
     ]
    }
   ],
   "source": [
    "import torch\n",
    "import torch.nn as nn\n",
    "import torch.optim as optim\n",
    "\n",
    "\n",
    "## Definicija računskog grafa\n",
    "# podaci i parametri, inicijalizacija parametara\n",
    "a = torch.randn(1, requires_grad=True)\n",
    "b = torch.randn(1, requires_grad=True)\n",
    "\n",
    "X = torch.tensor([1, 2])\n",
    "Y = torch.tensor([3, 5])\n",
    "\n",
    "# optimizacijski postupak: gradijentni spust\n",
    "optimizer = optim.SGD([a, b], lr=0.1)\n",
    "\n",
    "for i in range(100):\n",
    "    # afin regresijski model\n",
    "    Y_ = a*X + b\n",
    "\n",
    "    diff = (Y-Y_)\n",
    "\n",
    "    # kvadratni gubitak\n",
    "    loss = torch.sum(diff**2)\n",
    "\n",
    "    # računanje gradijenata\n",
    "    loss.backward()\n",
    "\n",
    "    # korak optimizacije\n",
    "    optimizer.step()\n",
    "\n",
    "    # Postavljanje gradijenata na nulu\n",
    "    optimizer.zero_grad()\n",
    "\n",
    "    if i % 10 == 0:\n",
    "        print(f'step: {i}, loss:{loss}, Y_:{Y_}, a:{a}, b:{b}')"
   ]
  },
  {
   "cell_type": "markdown",
   "id": "c75fa2e3",
   "metadata": {},
   "source": [
    "# Zadaci\n",
    "\n",
    "Ponovite osnove PyTorcha navedene u odjeljcima 0b i 0c. Analizirajte prikazani program te provjerite ispravnost izvođenja.\n",
    "\n",
    "Modificirajte program na način da se pravac može provući kroz proizvoljan broj točaka. Pripazite da iznosi gradijenata budu neovisni o broju podataka.\n",
    "\n",
    "Ispišite vrijednosti gradijenata tijekom napredovanja postupka.\n",
    "\n",
    "Odredite analitičke izraze za gradijente funkcije gubitka po parametrima a i b. Izračunajte eksplicitno te gradijente. Ispišite vrijednosti gradijenata i uvjerite se da odgovaraju onima koje automatski određuje PyTorch."
   ]
  },
  {
   "cell_type": "code",
   "execution_count": 5,
   "id": "a702e20a",
   "metadata": {},
   "outputs": [
    {
     "name": "stdout",
     "output_type": "stream",
     "text": [
      "step:  0, loss: 1.659470, PyTorch grad: a=4.034 b=2.534, Analitički grad: a=4.034 b=2.534\n",
      "step: 10, loss: 0.003064, PyTorch grad: a=-0.016 b=0.025, Analitički grad: a=-0.016 b=0.025\n",
      "step: 20, loss: 0.002284, PyTorch grad: a=-0.014 b=0.022, Analitički grad: a=-0.014 b=0.022\n",
      "step: 30, loss: 0.001702, PyTorch grad: a=-0.012 b=0.019, Analitički grad: a=-0.012 b=0.019\n",
      "step: 40, loss: 0.001268, PyTorch grad: a=-0.010 b=0.016, Analitički grad: a=-0.010 b=0.016\n",
      "step: 50, loss: 0.000945, PyTorch grad: a=-0.009 b=0.014, Analitički grad: a=-0.009 b=0.014\n",
      "step: 60, loss: 0.000705, PyTorch grad: a=-0.008 b=0.012, Analitički grad: a=-0.008 b=0.012\n",
      "step: 70, loss: 0.000525, PyTorch grad: a=-0.007 b=0.011, Analitički grad: a=-0.007 b=0.011\n",
      "step: 80, loss: 0.000391, PyTorch grad: a=-0.006 b=0.009, Analitički grad: a=-0.006 b=0.009\n",
      "step: 90, loss: 0.000292, PyTorch grad: a=-0.005 b=0.008, Analitički grad: a=-0.005 b=0.008\n"
     ]
    }
   ],
   "source": [
    "# -*- coding: utf-8 -*-\n",
    "\"\"\"\n",
    "Created on Mon Mar 14 18:27:22 2022\n",
    "\n",
    "@author: Filip\n",
    "\"\"\"\n",
    "\n",
    "import torch\n",
    "import torch.nn as nn\n",
    "import torch.optim as optim\n",
    "\n",
    "## Definicija računskog grafa\n",
    "# podaci i parametri, inicijalizacija parametara\n",
    "a = torch.randn(1, requires_grad=True)\n",
    "b = torch.randn(1, requires_grad=True)\n",
    "\n",
    "X = torch.tensor([1, 2])\n",
    "Y = torch.tensor([3, 5])\n",
    "\n",
    "# optimizacijski postupak: gradijentni spust\n",
    "optimizer = optim.SGD([a, b], lr=0.1)\n",
    "\n",
    "for i in range(100):\n",
    "    # afin regresijski model\n",
    "    Y_ = a * X + b\n",
    "\n",
    "    diff = (Y-Y_)\n",
    "\n",
    "    # srednji kvadratni gubitak - osiguran rad neovisno o broju ulaznih tocaka\n",
    "    loss = torch.mean(diff**2) \n",
    "\n",
    "    # računanje gradijenata\n",
    "    loss.backward()\n",
    "\n",
    "    real_grad_a = 2 * torch.mean(-diff * X) \n",
    "    real_grad_b = 2 * torch.mean(-diff)\n",
    "    if i % 10 == 0: \n",
    "        print(f'step: {i:2d}, loss: {loss:.6f}, PyTorch grad: a={a.grad.detach().numpy()[0]:.03f} b={b.grad.detach().numpy()[0]:.03f}, Analitički grad: a={real_grad_a:.03f} b={real_grad_b:.03f}')\n",
    "    \n",
    "    # korak optimizacije\n",
    "    optimizer.step()\n",
    "\n",
    "    # Postavljanje gradijenata na nulu\n",
    "    optimizer.zero_grad()"
   ]
  },
  {
   "cell_type": "markdown",
   "id": "c50f165e",
   "metadata": {},
   "source": [
    "# 4. Logistička regresija u PyTorchu (20% bodova)"
   ]
  },
  {
   "cell_type": "code",
   "execution_count": 12,
   "id": "3224de64",
   "metadata": {},
   "outputs": [],
   "source": [
    "import pt_logreg\n",
    "\n",
    "# inicijaliziraj generatore slučajnih brojeva\n",
    "np.random.seed(100)\n",
    "\n",
    "# instanciraj podatke X i labele Yoh_\n",
    "X,Y_ = data.sample_gmm_2d(4, 3, 5)\n",
    "Yoh_ = data.class_to_onehot(Y_)\n",
    "\n",
    "# definiraj model:\n",
    "ptlr = pt_logreg.PTLogreg(X.shape[1], Yoh_.shape[1])\n",
    "\n",
    "X = torch.from_numpy(X).float()\n",
    "Yoh_ = torch.from_numpy(Yoh_).float()"
   ]
  },
  {
   "cell_type": "code",
   "execution_count": 13,
   "id": "643d7871",
   "metadata": {},
   "outputs": [],
   "source": [
    "param_lambda=0.0"
   ]
  },
  {
   "cell_type": "code",
   "execution_count": 14,
   "id": "d1d75828",
   "metadata": {},
   "outputs": [
    {
     "name": "stdout",
     "output_type": "stream",
     "text": [
      "iter: 0 loss: 7.279033\n",
      "iter: 100 loss: 0.494304\n",
      "iter: 200 loss: 0.472277\n",
      "iter: 300 loss: 0.462226\n",
      "iter: 400 loss: 0.456747\n",
      "iter: 500 loss: 0.453423\n",
      "iter: 600 loss: 0.451233\n",
      "iter: 700 loss: 0.449687\n",
      "iter: 800 loss: 0.448533\n",
      "iter: 900 loss: 0.447630\n",
      "Accuracy:  0.85\n",
      "Precision & recall for class 0 :  (0.8, 0.8)\n",
      "Precision & recall for class 1 :  (0.9, 0.8181818181818182)\n",
      "Precision & recall for class 2 :  (0.8, 1.0)\n"
     ]
    },
    {
     "data": {
      "image/png": "[encoded data removed]",
      "text/plain": [
       "<Figure size 432x288 with 1 Axes>"
      ]
     },
     "metadata": {
      "needs_background": "light"
     },
     "output_type": "display_data"
    }
   ],
   "source": [
    "# nauči parametre (X i Yoh_ moraju biti tipa torch.Tensor):\n",
    "ptlr.train(X, Yoh_, 1000, 0.1, param_lambda)\n",
    "\n",
    "# dohvati vjerojatnosti na skupu za učenje\n",
    "probs = ptlr.evaluate(X.detach().numpy())\n",
    "\n",
    "# ispiši performansu (preciznost i odziv po razredima)\n",
    "accuracy, pr, M = data.eval_perf_multi(probs, Y_)\n",
    "print(\"Accuracy: \", accuracy)\n",
    "for i in range(3):\n",
    "    print(\"Precision & recall for class\", i, \": \", pr[i])\n",
    "\n",
    "\n",
    "# iscrtaj rezultate, decizijsku plohu\n",
    "rect = (np.min(X.numpy(), axis=0), np.max(X.numpy(), axis=0))\n",
    "data.graph_surface(lambda X: ptlr.evaluate(X), rect)\n",
    "data.graph_data(X, Y_, probs)\n",
    "plt.show()"
   ]
  },
  {
   "cell_type": "code",
   "execution_count": 10,
   "id": "af9c158a",
   "metadata": {},
   "outputs": [],
   "source": [
    "param_lambda=0.0001"
   ]
  },
  {
   "cell_type": "code",
   "execution_count": 11,
   "id": "84554b0b",
   "metadata": {},
   "outputs": [
    {
     "name": "stdout",
     "output_type": "stream",
     "text": [
      "iter: 0 loss: 0.452818\n",
      "iter: 100 loss: 0.451547\n",
      "iter: 200 loss: 0.450468\n",
      "iter: 300 loss: 0.449540\n",
      "iter: 400 loss: 0.448732\n",
      "iter: 500 loss: 0.448022\n",
      "iter: 600 loss: 0.447393\n",
      "iter: 700 loss: 0.446833\n",
      "iter: 800 loss: 0.446331\n",
      "iter: 900 loss: 0.445879\n",
      "Accuracy:  0.85\n",
      "Precision & recall for class 0 :  (0.8, 0.8)\n",
      "Precision & recall for class 1 :  (0.9, 0.8181818181818182)\n",
      "Precision & recall for class 2 :  (0.8, 1.0)\n"
     ]
    },
    {
     "data": {
      "image/png": "[encoded data removed]",
      "text/plain": [
       "<Figure size 432x288 with 1 Axes>"
      ]
     },
     "metadata": {
      "needs_background": "light"
     },
     "output_type": "display_data"
    }
   ],
   "source": [
    "# nauči parametre (X i Yoh_ moraju biti tipa torch.Tensor):\n",
    "ptlr.train(X, Yoh_, 1000, 0.1, param_lambda)\n",
    "\n",
    "# dohvati vjerojatnosti na skupu za učenje\n",
    "probs = ptlr.evaluate(X.detach().numpy())\n",
    "\n",
    "# ispiši performansu (preciznost i odziv po razredima)\n",
    "accuracy, pr, M = data.eval_perf_multi(probs, Y_)\n",
    "print(\"Accuracy: \", accuracy)\n",
    "for i in range(3):\n",
    "    print(\"Precision & recall for class\", i, \": \", pr[i])\n",
    "\n",
    "\n",
    "# iscrtaj rezultate, decizijsku plohu\n",
    "rect = (np.min(X.numpy(), axis=0), np.max(X.numpy(), axis=0))\n",
    "data.graph_surface(lambda X: ptlr.evaluate(X), rect)\n",
    "data.graph_data(X, Y_, probs)\n",
    "plt.show()"
   ]
  },
  {
   "cell_type": "code",
   "execution_count": 12,
   "id": "42a8f775",
   "metadata": {},
   "outputs": [],
   "source": [
    "param_lambda=0.01"
   ]
  },
  {
   "cell_type": "code",
   "execution_count": 13,
   "id": "82be1920",
   "metadata": {},
   "outputs": [
    {
     "name": "stdout",
     "output_type": "stream",
     "text": [
      "iter: 0 loss: 0.481230\n",
      "iter: 100 loss: 0.480509\n",
      "iter: 200 loss: 0.479971\n",
      "iter: 300 loss: 0.479497\n",
      "iter: 400 loss: 0.479064\n",
      "iter: 500 loss: 0.478662\n",
      "iter: 600 loss: 0.478288\n",
      "iter: 700 loss: 0.477937\n",
      "iter: 800 loss: 0.477608\n",
      "iter: 900 loss: 0.477298\n",
      "Accuracy:  0.8\n",
      "Precision & recall for class 0 :  (0.6, 0.75)\n",
      "Precision & recall for class 1 :  (0.9, 0.75)\n",
      "Precision & recall for class 2 :  (0.8, 1.0)\n"
     ]
    },
    {
     "data": {
      "image/png": "[encoded data removed]",
      "text/plain": [
       "<Figure size 432x288 with 1 Axes>"
      ]
     },
     "metadata": {
      "needs_background": "light"
     },
     "output_type": "display_data"
    }
   ],
   "source": [
    "# nauči parametre (X i Yoh_ moraju biti tipa torch.Tensor):\n",
    "ptlr.train(X, Yoh_, 1000, 0.1, param_lambda)\n",
    "\n",
    "# dohvati vjerojatnosti na skupu za učenje\n",
    "probs = ptlr.evaluate(X.detach().numpy())\n",
    "\n",
    "# ispiši performansu (preciznost i odziv po razredima)\n",
    "accuracy, pr, M = data.eval_perf_multi(probs, Y_)\n",
    "print(\"Accuracy: \", accuracy)\n",
    "for i in range(3):\n",
    "    print(\"Precision & recall for class\", i, \": \", pr[i])\n",
    "\n",
    "\n",
    "# iscrtaj rezultate, decizijsku plohu\n",
    "rect = (np.min(X.numpy(), axis=0), np.max(X.numpy(), axis=0))\n",
    "data.graph_surface(lambda X: ptlr.evaluate(X), rect)\n",
    "data.graph_data(X, Y_, probs)\n",
    "plt.show()"
   ]
  },
  {
   "cell_type": "code",
   "execution_count": 14,
   "id": "8d678da3",
   "metadata": {},
   "outputs": [],
   "source": [
    "param_lambda=0.1"
   ]
  },
  {
   "cell_type": "code",
   "execution_count": 15,
   "id": "328a1fe2",
   "metadata": {},
   "outputs": [
    {
     "name": "stdout",
     "output_type": "stream",
     "text": [
      "iter: 0 loss: 0.772568\n",
      "iter: 100 loss: 0.717967\n",
      "iter: 200 loss: 0.688611\n",
      "iter: 300 loss: 0.671559\n",
      "iter: 400 loss: 0.661604\n",
      "iter: 500 loss: 0.655500\n",
      "iter: 600 loss: 0.651460\n",
      "iter: 700 loss: 0.648629\n",
      "iter: 800 loss: 0.646599\n",
      "iter: 900 loss: 0.645147\n",
      "Accuracy:  0.8\n",
      "Precision & recall for class 0 :  (0.6, 0.75)\n",
      "Precision & recall for class 1 :  (0.9, 0.75)\n",
      "Precision & recall for class 2 :  (0.8, 1.0)\n"
     ]
    },
    {
     "data": {
      "image/png": "[encoded data removed]",
      "text/plain": [
       "<Figure size 432x288 with 1 Axes>"
      ]
     },
     "metadata": {
      "needs_background": "light"
     },
     "output_type": "display_data"
    }
   ],
   "source": [
    "# nauči parametre (X i Yoh_ moraju biti tipa torch.Tensor):\n",
    "ptlr.train(X, Yoh_, 1000, 0.1, param_lambda)\n",
    "\n",
    "# dohvati vjerojatnosti na skupu za učenje\n",
    "probs = ptlr.evaluate(X.detach().numpy())\n",
    "\n",
    "# ispiši performansu (preciznost i odziv po razredima)\n",
    "accuracy, pr, M = data.eval_perf_multi(probs, Y_)\n",
    "print(\"Accuracy: \", accuracy)\n",
    "for i in range(3):\n",
    "    print(\"Precision & recall for class\", i, \": \", pr[i])\n",
    "\n",
    "\n",
    "# iscrtaj rezultate, decizijsku plohu\n",
    "rect = (np.min(X.numpy(), axis=0), np.max(X.numpy(), axis=0))\n",
    "data.graph_surface(lambda X: ptlr.evaluate(X), rect)\n",
    "data.graph_data(X, Y_, probs)\n",
    "plt.show()"
   ]
  },
  {
   "cell_type": "code",
   "execution_count": 16,
   "id": "0e98a6b1",
   "metadata": {},
   "outputs": [],
   "source": [
    "param_lambda=1.0"
   ]
  },
  {
   "cell_type": "code",
   "execution_count": 17,
   "id": "c64e87e0",
   "metadata": {},
   "outputs": [
    {
     "name": "stdout",
     "output_type": "stream",
     "text": [
      "iter: 0 loss: 1.933658\n",
      "iter: 100 loss: 1.102121\n",
      "iter: 200 loss: 1.048048\n",
      "iter: 300 loss: 1.056020\n",
      "iter: 400 loss: 1.056057\n",
      "iter: 500 loss: 1.056115\n",
      "iter: 600 loss: 1.056127\n",
      "iter: 700 loss: 1.056129\n",
      "iter: 800 loss: 1.056129\n",
      "iter: 900 loss: 1.056129\n",
      "Accuracy:  0.55\n",
      "Precision & recall for class 0 :  (0.0, nan)\n",
      "Precision & recall for class 1 :  (1.0, 0.5263157894736842)\n",
      "Precision & recall for class 2 :  (0.2, 1.0)\n"
     ]
    },
    {
     "name": "stderr",
     "output_type": "stream",
     "text": [
      "C:\\Users\\Filip\\git\\DU\\lab1\\data.py:132: RuntimeWarning: invalid value encountered in longlong_scalars\n",
      "  precision_i = tp_i / (tp_i + fp_i)\n",
      "C:\\Users\\Filip\\git\\DU\\lab1\\data.py:73: UserWarning: No contour levels were found within the data range.\n",
      "  plt.contour(xx0, xx1, values, colors='black', levels=[offset])\n"
     ]
    },
    {
     "data": {
      "image/png": "[encoded data removed]",
      "text/plain": [
       "<Figure size 432x288 with 1 Axes>"
      ]
     },
     "metadata": {
      "needs_background": "light"
     },
     "output_type": "display_data"
    }
   ],
   "source": [
    "# nauči parametre (X i Yoh_ moraju biti tipa torch.Tensor):\n",
    "ptlr.train(X, Yoh_, 1000, 0.1, param_lambda)\n",
    "\n",
    "# dohvati vjerojatnosti na skupu za učenje\n",
    "probs = ptlr.evaluate(X.detach().numpy())\n",
    "\n",
    "# ispiši performansu (preciznost i odziv po razredima)\n",
    "accuracy, pr, M = data.eval_perf_multi(probs, Y_)\n",
    "print(\"Accuracy: \", accuracy)\n",
    "for i in range(3):\n",
    "    print(\"Precision & recall for class\", i, \": \", pr[i])\n",
    "\n",
    "\n",
    "# iscrtaj rezultate, decizijsku plohu\n",
    "rect = (np.min(X.numpy(), axis=0), np.max(X.numpy(), axis=0))\n",
    "data.graph_surface(lambda X: ptlr.evaluate(X), rect)\n",
    "data.graph_data(X, Y_, probs)\n",
    "plt.show()"
   ]
  },
  {
   "cell_type": "markdown",
   "id": "54563bf2",
   "metadata": {},
   "source": [
    "# 5. Konfigurabilni duboki modeli u PyTorchu (20% bodova)"
   ]
  },
  {
   "cell_type": "code",
   "execution_count": 31,
   "id": "59d1e0ab",
   "metadata": {},
   "outputs": [
    {
     "name": "stdout",
     "output_type": "stream",
     "text": [
      "iter:  0  loss:  tensor(2.0593, dtype=torch.float64, grad_fn=<MulBackward0>)\n",
      "iter:  100  loss:  tensor(0.5743, dtype=torch.float64, grad_fn=<MulBackward0>)\n",
      "iter:  200  loss:  tensor(0.5174, dtype=torch.float64, grad_fn=<MulBackward0>)\n",
      "iter:  300  loss:  tensor(0.4927, dtype=torch.float64, grad_fn=<MulBackward0>)\n",
      "iter:  400  loss:  tensor(0.4794, dtype=torch.float64, grad_fn=<MulBackward0>)\n",
      "iter:  500  loss:  tensor(0.4712, dtype=torch.float64, grad_fn=<MulBackward0>)\n",
      "iter:  600  loss:  tensor(0.4657, dtype=torch.float64, grad_fn=<MulBackward0>)\n",
      "iter:  700  loss:  tensor(0.4617, dtype=torch.float64, grad_fn=<MulBackward0>)\n",
      "iter:  800  loss:  tensor(0.4588, dtype=torch.float64, grad_fn=<MulBackward0>)\n",
      "iter:  900  loss:  tensor(0.4564, dtype=torch.float64, grad_fn=<MulBackward0>)\n",
      "Accuracy:  0.85\n",
      "Precision & recall for class 0 :  (0.8, 0.8)\n",
      "Precision & recall for class 1 :  (0.9, 0.8181818181818182)\n",
      "Precision & recall for class 2 :  (0.8, 1.0)\n"
     ]
    },
    {
     "data": {
      "image/png": "[encoded data removed]",
      "text/plain": [
       "<Figure size 432x288 with 1 Axes>"
      ]
     },
     "metadata": {
      "needs_background": "light"
     },
     "output_type": "display_data"
    }
   ],
   "source": [
    "import pt_deep\n",
    "\n",
    "# inicijaliziraj generatore slučajnih brojeva\n",
    "np.random.seed(100)\n",
    "\n",
    "# instanciraj podatke X i labele Yoh_\n",
    "X,Y_ = data.sample_gmm_2d(4, 3, 5)\n",
    "Yoh_ = data.class_to_onehot(Y_)\n",
    "\n",
    "# definiraj model:\n",
    "parameter_list = [2, 3]\n",
    "ptd = pt_deep.PTDeep(parameter_list)\n",
    "\n",
    "X = torch.from_numpy(X)\n",
    "Yoh_ = torch.from_numpy(Yoh_)\n",
    "\n",
    "ptd.train(X, Yoh_, 1000, 0.1)\n",
    "\n",
    "# dohvati vjerojatnosti na skupu za učenje\n",
    "probs = ptd.evaluate(X)\n",
    "\n",
    "# ispiši performansu (preciznost i odziv po razredima)\n",
    "accuracy, pr, M = data.eval_perf_multi(probs, Y_)\n",
    "print(\"Accuracy: \", accuracy)\n",
    "for i in range(3):\n",
    "    print(\"Precision & recall for class\", i, \": \", pr[i])\n",
    "\n",
    "\n",
    "# iscrtaj rezultate, decizijsku plohu\n",
    "rect = (np.min(X.numpy(), axis=0), np.max(X.numpy(), axis=0))\n",
    "data.graph_surface(lambda X: ptd.evaluate(X), rect)\n",
    "data.graph_data(X, Y_, probs)\n",
    "plt.show()"
   ]
  },
  {
   "cell_type": "markdown",
   "id": "43b9521f",
   "metadata": {},
   "source": [
    "Rezultat pokretanja modela PTDeep s konfiguracijom [2,3] jednak je kao i kod implementacije logističke regresije."
   ]
  },
  {
   "cell_type": "code",
   "execution_count": 29,
   "id": "7075eae9",
   "metadata": {},
   "outputs": [
    {
     "ename": "AttributeError",
     "evalue": "module 'pt_deep' has no attribute 'count_parameters'",
     "output_type": "error",
     "traceback": [
      "\u001b[1;31m---------------------------------------------------------------------------\u001b[0m",
      "\u001b[1;31mAttributeError\u001b[0m                            Traceback (most recent call last)",
      "Input \u001b[1;32mIn [29]\u001b[0m, in \u001b[0;36m<cell line: 1>\u001b[1;34m()\u001b[0m\n\u001b[1;32m----> 1\u001b[0m \u001b[38;5;28mprint\u001b[39m(\u001b[43mpt_deep\u001b[49m\u001b[38;5;241;43m.\u001b[39;49m\u001b[43mcount_parameters\u001b[49m(ptd))\n",
      "\u001b[1;31mAttributeError\u001b[0m: module 'pt_deep' has no attribute 'count_parameters'"
     ]
    }
   ],
   "source": [
    "print(pt_deep.count_parameters(ptd))"
   ]
  },
  {
   "cell_type": "code",
   "execution_count": 67,
   "id": "c77fa4ac",
   "metadata": {},
   "outputs": [
    {
     "name": "stdout",
     "output_type": "stream",
     "text": [
      "iter:  0  loss:  tensor(0.6957, dtype=torch.float64, grad_fn=<MulBackward0>)\n",
      "iter:  100  loss:  tensor(0.6902, dtype=torch.float64, grad_fn=<MulBackward0>)\n",
      "iter:  200  loss:  tensor(0.6862, dtype=torch.float64, grad_fn=<MulBackward0>)\n",
      "iter:  300  loss:  tensor(0.6817, dtype=torch.float64, grad_fn=<MulBackward0>)\n",
      "iter:  400  loss:  tensor(0.6753, dtype=torch.float64, grad_fn=<MulBackward0>)\n",
      "iter:  500  loss:  tensor(0.6697, dtype=torch.float64, grad_fn=<MulBackward0>)\n",
      "iter:  600  loss:  tensor(0.6651, dtype=torch.float64, grad_fn=<MulBackward0>)\n",
      "iter:  700  loss:  tensor(0.6611, dtype=torch.float64, grad_fn=<MulBackward0>)\n",
      "iter:  800  loss:  tensor(0.6575, dtype=torch.float64, grad_fn=<MulBackward0>)\n",
      "iter:  900  loss:  tensor(0.6542, dtype=torch.float64, grad_fn=<MulBackward0>)\n",
      "Accuracy:  0.6666666666666666\n",
      "Precision & recall for class 0 :  (0.9, 0.6136363636363636)\n",
      "Precision & recall for class 1 :  (0.43333333333333335, 0.8125)\n"
     ]
    },
    {
     "data": {
      "image/png": "[encoded data removed]",
      "text/plain": [
       "<Figure size 432x288 with 1 Axes>"
      ]
     },
     "metadata": {
      "needs_background": "light"
     },
     "output_type": "display_data"
    }
   ],
   "source": [
    "import pt_deep\n",
    "\n",
    "np.random.seed(100)\n",
    "\n",
    "X,Y_ = data.sample_gmm_2d(6, 2, 10)\n",
    "Yoh_ = data.class_to_onehot(Y_)\n",
    "\n",
    "def activation(X):\n",
    "    return torch.sigmoid(X)\n",
    "\n",
    "# definiraj model:\n",
    "parameter_list = [2, 10, 10, 2]\n",
    "ptd = pt_deep.PTDeep(parameter_list, activation)\n",
    "\n",
    "X = torch.from_numpy(X)\n",
    "Yoh_ = torch.from_numpy(Yoh_)\n",
    "\n",
    "ptd.train(X, Yoh_, 1000, 0.1, 0.001)\n",
    "\n",
    "# dohvati vjerojatnosti na skupu za učenje\n",
    "probs = ptd.evaluate(X)\n",
    "\n",
    "# ispiši performansu (preciznost i odziv po razredima)\n",
    "accuracy, pr, M = data.eval_perf_multi(probs, Y_)\n",
    "print(\"Accuracy: \", accuracy)\n",
    "for i in range(2):\n",
    "    print(\"Precision & recall for class\", i, \": \", pr[i])\n",
    "\n",
    "\n",
    "# iscrtaj rezultate, decizijsku plohu\n",
    "rect = (np.min(X.numpy(), axis=0), np.max(X.numpy(), axis=0))\n",
    "data.graph_surface(lambda X: ptd.evaluate(X), rect)\n",
    "data.graph_data(X, Y_, probs)\n",
    "plt.show()"
   ]
  },
  {
   "cell_type": "code",
   "execution_count": null,
   "id": "31ac1fb4",
   "metadata": {},
   "outputs": [],
   "source": []
  }
 ],
 "metadata": {
  "kernelspec": {
   "display_name": "Python 3 (ipykernel)",
   "language": "python",
   "name": "python3"
  },
  "language_info": {
   "codemirror_mode": {
    "name": "ipython",
    "version": 3
   },
   "file_extension": ".py",
   "mimetype": "text/x-python",
   "name": "python",
   "nbconvert_exporter": "python",
   "pygments_lexer": "ipython3",
   "version": "3.8.8"
  }
 },
 "nbformat": 4,
 "nbformat_minor": 5
}
